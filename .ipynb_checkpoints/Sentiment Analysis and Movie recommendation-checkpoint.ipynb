{
 "cells": [
  {
   "cell_type": "markdown",
   "metadata": {},
   "source": [
    "# Sentiment Analysis (using nltk)"
   ]
  },
  {
   "cell_type": "code",
   "execution_count": 1,
   "metadata": {},
   "outputs": [
    {
     "data": {
      "text/plain": [
       "-0.6"
      ]
     },
     "execution_count": 1,
     "metadata": {},
     "output_type": "execute_result"
    }
   ],
   "source": [
    "from textblob import TextBlob\n",
    "import nltk\n",
    "ans=TextBlob(\"I fucked up this semester\")\n",
    "ans.tags\n",
    "ans.words\n",
    "\n",
    "# sentiment has two attributes viz. polarity and subjectivity. \n",
    "\n",
    "# Subjectivity is when text is an explanatory article which must be analysed in context.\n",
    "ans.sentiment.subjectivity\n",
    "\n",
    "# Polarity, also known as orientation is he emotion expressed in the sentence. \n",
    "# It can be positive, neagtive or neutral.\n",
    "ans.sentiment.polarity"
   ]
  },
  {
   "cell_type": "markdown",
   "metadata": {},
   "source": [
    "# Twitter Sentiment Analysis (using tweepy and Textblob)"
   ]
  },
  {
   "cell_type": "code",
   "execution_count": 13,
   "metadata": {},
   "outputs": [
    {
     "name": "stdout",
     "output_type": "stream",
     "text": [
      "topic to search \n",
      "ambani\n",
      "Average polarity is \n",
      "-0.0687878787878788\n"
     ]
    }
   ],
   "source": [
    "#tweepy not compatible with py3.7 at the time of writing this code so create a virtualenv and pip install python=3.6\n",
    "import tweepy\n",
    "from textblob import TextBlob\n",
    "\n",
    "consumer_key='bOUzizCc69042xXS4aedrFHTx'\n",
    "consumer_secret='Vq4p5A0MKWtqwYR6hRlLAGH6dEKtUBARpJW1tO9uKLsmJvKGb2'\n",
    "access_token='3168918233-mItuqic1QEklBPQbWwnRUKLuy0IPF25MuUVgKvN'\n",
    "access_token_secret='BUT3h9ctA0h4OVYf5O4IHynlVCkiNnSbdDRskxhto7U0n'\n",
    "\n",
    "auth=tweepy.OAuthHandler(consumer_key,consumer_secret)\n",
    "auth.set_access_token(access_token, access_token_secret)\n",
    "\n",
    "api=tweepy.API(auth)\n",
    "n1=input(\"topic to search \\n\")\n",
    "searched_tweets = api.search(n1)\n",
    "csv_file=\"tweets.csv\"\n",
    "csv=open(csv_file,\"w\")\n",
    "columnTitleRow = \"Tweet, Sentiment\\n\"\n",
    "csv.write(columnTitleRow)\n",
    "avg_polarity=0\n",
    "cnt=0\n",
    "for tweet in searched_tweets:\n",
    "    ans=TextBlob(tweet.text)\n",
    "    row = tweet.text + \",\" + str(ans.sentiment.polarity) + \"\\n\"\n",
    "    csv.write(row)\n",
    "    avg_polarity=avg_polarity+ans.sentiment.polarity\n",
    "    cnt=cnt+1\n",
    "print(\"Average polarity is \")\n",
    "print(avg_polarity/cnt)\n",
    "    \n",
    "\n"
   ]
  },
  {
   "cell_type": "markdown",
   "metadata": {},
   "source": [
    "# Movie Recommmendation System (using lightfm)"
   ]
  },
  {
   "cell_type": "code",
   "execution_count": 68,
   "metadata": {},
   "outputs": [
    {
     "name": "stdout",
     "output_type": "stream",
     "text": [
      "3\n",
      "4\n",
      "56\n",
      "User id 3\n",
      "Known Positives\n",
      "   Seven (Se7en) (1995)\n",
      "   Contact (1997)\n",
      "   Starship Troopers (1997)\n",
      " Recommmended  Titanic (1997)\n",
      " Recommmended  Air Force One (1997)\n",
      " Recommmended  Conspiracy Theory (1997)\n",
      "User id 4\n",
      "Known Positives\n",
      "   Rumble in the Bronx (1995)\n",
      "   Batman Forever (1995)\n",
      "   To Wong Foo, Thanks for Everything! Julie Newmar (1995)\n",
      " Recommmended  Raiders of the Lost Ark (1981)\n",
      " Recommmended  Alien (1979)\n",
      " Recommmended  Empire Strikes Back, The (1980)\n",
      "User id 56\n",
      "Known Positives\n",
      "   Toy Story (1995)\n",
      "   Twelve Monkeys (1995)\n",
      "   Babe (1995)\n",
      " Recommmended  Rock, The (1996)\n",
      " Recommmended  Toy Story (1995)\n",
      " Recommmended  Star Wars (1977)\n"
     ]
    }
   ],
   "source": [
    "import numpy as np\n",
    "from lightfm.datasets import fetch_movielens\n",
    "from lightfm import LightFM\n",
    "import scipy\n",
    "import numpy as np\n",
    "\n",
    "#fetch data and format it\n",
    "df=fetch_movielens(min_rating=4.0)\n",
    "# print(repr(df['test']))\n",
    "# print(repr(df['train']))\n",
    "\n",
    "model=LightFM(loss='warp')\n",
    "model.fit(df['train'],epochs=30,num_threads=2)\n",
    "         \n",
    "def sample_recommmendation(model, df, user_ids):\n",
    "              n_users,n_items=df['train'].shape\n",
    "              for user_id in user_ids:\n",
    "                  known_positives=df['item_labels'][df['train'].tocsr()[user_id].indices]\n",
    "                  scores=model.predict(user_id,np.arange(n_items))\n",
    "                  top_items=df['item_labels'][np.argsort(-scores)]\n",
    "                  print(\"User id %s\" % user_id)  \n",
    "                  print(\"Known Positives\")\n",
    "                  for x in known_positives[:3]:\n",
    "                      print(\"   %s\" % x)\n",
    "                  for x in top_items[:3]:\n",
    "                      print(\" Recommmended  %s\" % x)\n",
    "\n",
    "user_1=input()\n",
    "user_2 = input()\n",
    "user_3 = input()\n",
    "sample_recommmendation(model,df,[user_1,user_2,user_3])                      \n",
    "              "
   ]
  }
 ],
 "metadata": {
  "kernelspec": {
   "display_name": "Python 3",
   "language": "python",
   "name": "python3"
  },
  "language_info": {
   "codemirror_mode": {
    "name": "ipython",
    "version": 3
   },
   "file_extension": ".py",
   "mimetype": "text/x-python",
   "name": "python",
   "nbconvert_exporter": "python",
   "pygments_lexer": "ipython3",
   "version": "3.6.6"
  }
 },
 "nbformat": 4,
 "nbformat_minor": 2
}
