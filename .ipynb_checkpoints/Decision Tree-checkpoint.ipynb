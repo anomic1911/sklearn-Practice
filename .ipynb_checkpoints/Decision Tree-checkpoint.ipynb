{
 "cells": [
  {
   "cell_type": "markdown",
   "metadata": {},
   "source": [
    "# Decision Tree\n",
    "\n",
    "height, weight and foot size are given as dataset and their gender as label.We are predicting the gender using sklearn DecisionTreeClassifier()  "
   ]
  },
  {
   "cell_type": "code",
   "execution_count": 5,
   "metadata": {},
   "outputs": [
    {
     "name": "stdout",
     "output_type": "stream",
     "text": [
      "['female']\n"
     ]
    }
   ],
   "source": [
    "from sklearn import tree\n",
    "x=[[170,60,44],[180,75,48],[165,89,38],[185,83,39],[156,57,42],[145,42,45]]\n",
    "y=['male','female','male','male','female','female']\n",
    "clf=tree.DecisionTreeClassifier()\n",
    "clf=clf.fit(x,y)\n",
    "predicted_gender=clf.predict([[166,56,43]])\n",
    "print(predicted_gender)"
   ]
  },
  {
   "cell_type": "code",
   "execution_count": 12,
   "metadata": {},
   "outputs": [
    {
     "name": "stdout",
     "output_type": "stream",
     "text": [
      "189\n",
      "54\n",
      "33\n",
      "['male']\n"
     ]
    }
   ],
   "source": [
    "from sklearn import tree\n",
    "x=[[170,60,44],[180,75,48],[165,89,38],[185,83,39],[156,57,42],[145,42,45]]\n",
    "y=['male','female','male','male','female','female']\n",
    "clf=tree.DecisionTreeClassifier()\n",
    "clf=clf.fit(x,y)\n",
    "n1=input()\n",
    "n2=input()\n",
    "n3=input()\n",
    "predicted_gender=clf.predict([[n1,n2,n3]])\n",
    "print(predicted_gender)"
   ]
  }
 ],
 "metadata": {
  "kernelspec": {
   "display_name": "Python 3",
   "language": "python",
   "name": "python3"
  },
  "language_info": {
   "codemirror_mode": {
    "name": "ipython",
    "version": 3
   },
   "file_extension": ".py",
   "mimetype": "text/x-python",
   "name": "python",
   "nbconvert_exporter": "python",
   "pygments_lexer": "ipython3",
   "version": "3.6.6"
  }
 },
 "nbformat": 4,
 "nbformat_minor": 2
}
